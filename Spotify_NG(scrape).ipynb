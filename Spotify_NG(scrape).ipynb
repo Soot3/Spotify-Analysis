{
  "nbformat": 4,
  "nbformat_minor": 0,
  "metadata": {
    "colab": {
      "name": "Spotify_scrape.ipynb",
      "provenance": [],
      "collapsed_sections": [],
      "authorship_tag": "ABX9TyMIvfcq3aCVgA8Xo02QnUZI",
      "include_colab_link": true
    },
    "kernelspec": {
      "name": "python3",
      "display_name": "Python 3"
    }
  },
  "cells": [
    {
      "cell_type": "markdown",
      "metadata": {
        "id": "view-in-github",
        "colab_type": "text"
      },
      "source": [
        "<a href=\"https://colab.research.google.com/github/Soot3/Spotify-Analysis/blob/main/Spotify_NG(scrape).ipynb\" target=\"_parent\"><img src=\"https://colab.research.google.com/assets/colab-badge.svg\" alt=\"Open In Colab\"/></a>"
      ]
    },
    {
      "cell_type": "code",
      "metadata": {
        "id": "2awZ3gZo3_vK",
        "outputId": "620a04dd-e3c8-453b-8c0b-958a655a5bb3",
        "colab": {
          "base_uri": "https://localhost:8080/",
          "height": 184
        }
      },
      "source": [
        "import pandas as pd\n",
        "!pip install spotipy\n",
        "import spotipy\n",
        "from spotipy.oauth2 import SpotifyClientCredentials"
      ],
      "execution_count": 2,
      "outputs": [
        {
          "output_type": "stream",
          "text": [
            "Collecting spotipy\n",
            "  Downloading https://files.pythonhosted.org/packages/9f/21/9dcb15600495e8474befd275510e4d7aadfa796554d2f414b57f73731323/spotipy-2.16.0-py3-none-any.whl\n",
            "Requirement already satisfied: six>=1.10.0 in /usr/local/lib/python3.6/dist-packages (from spotipy) (1.15.0)\n",
            "Requirement already satisfied: requests>=2.20.0 in /usr/local/lib/python3.6/dist-packages (from spotipy) (2.23.0)\n",
            "Requirement already satisfied: chardet<4,>=3.0.2 in /usr/local/lib/python3.6/dist-packages (from requests>=2.20.0->spotipy) (3.0.4)\n",
            "Requirement already satisfied: certifi>=2017.4.17 in /usr/local/lib/python3.6/dist-packages (from requests>=2.20.0->spotipy) (2020.6.20)\n",
            "Requirement already satisfied: urllib3!=1.25.0,!=1.25.1,<1.26,>=1.21.1 in /usr/local/lib/python3.6/dist-packages (from requests>=2.20.0->spotipy) (1.24.3)\n",
            "Requirement already satisfied: idna<3,>=2.5 in /usr/local/lib/python3.6/dist-packages (from requests>=2.20.0->spotipy) (2.10)\n",
            "Installing collected packages: spotipy\n",
            "Successfully installed spotipy-2.16.0\n"
          ],
          "name": "stdout"
        }
      ]
    },
    {
      "cell_type": "code",
      "metadata": {
        "id": "r7exKmlQ4u7c"
      },
      "source": [
        "authorization={\"client_id\": \"xxxx\", \"client_secret\": \"xxxx\"}"
      ],
      "execution_count": 3,
      "outputs": []
    },
    {
      "cell_type": "code",
      "metadata": {
        "id": "G7NnRBKl5rhb"
      },
      "source": [
        "client_credentials_manager = SpotifyClientCredentials(client_id=authorization['client_id'],client_secret=authorization['client_secret'])\n",
        "\n",
        "sp = spotipy.Spotify(client_credentials_manager=client_credentials_manager)"
      ],
      "execution_count": 4,
      "outputs": []
    },
    {
      "cell_type": "markdown",
      "metadata": {
        "id": "OcFxAo8lhcmS"
      },
      "source": [
        "Spotify is not available in Nigeria, however, Nigerian music has a place on the streaming platform as Nigerian musicians post their music taking advantage of its reach.\n",
        "\n",
        "Using a few spotify playlists which are based on Nigerian musicians and Nigerian music, we can gain access and analyse Nigerian music as a whole."
      ]
    },
    {
      "cell_type": "code",
      "metadata": {
        "id": "VSNqymKXEDcx"
      },
      "source": [
        "# Function gets data on the Spotify track and artist ids from the given playlist id\n",
        "def getTrackIDs(playlist_id):\n",
        "    track_ids = []\n",
        "    artist_ids = []\n",
        "    playlist = sp.playlist(playlist_id)\n",
        "    for item in playlist['tracks']['items']:\n",
        "        track = item['track']\n",
        "        artist = track['artists'][0]['external_urls']['spotify']\n",
        "        track_ids.append(track['id'])\n",
        "        artist_ids.append(artist)\n",
        "    return track_ids, artist_ids"
      ],
      "execution_count": 5,
      "outputs": []
    },
    {
      "cell_type": "code",
      "metadata": {
        "id": "c-Ur3o4s9V9b"
      },
      "source": [
        "#Looping through our chosen playlists\n",
        "links = ['https://open.spotify.com/playlist/0y6GLcb6chq3IXB63zImHA?si=LVVhdiiLQqCjbkZKrIrRqQ','https://open.spotify.com/playlist/0yTBSYuj6a4vQScMLMZG6V?si=mXutCuNjRNuQzhAVzMoR3g','https://open.spotify.com/playlist/1PWKPQG5CWNKlMTbtCn8Xf?si=gAJvNC1PSByXpkgGNYC2Fg','https://open.spotify.com/playlist/4mRsLwJcOSpAPhFj1lT5uH?si=04botuN9S_-3FX1C2uZf0A','https://open.spotify.com/playlist/5pJRsC8aY41B2FuWnrSJBN?si=ty14WQw0Qe-a83CNJrtvcg','https://open.spotify.com/playlist/4TnTkspo7B9C03rjOoAoLW?si=8BJrK0GJRtO49JdcIm8Pzw','https://open.spotify.com/playlist/23fCAKOF4pG6E0baakihsK?si=5B292X27RYaPGPp4oibBVw']\n",
        "mt_list = []\n",
        "artist_list = []\n",
        "for i in links:\n",
        "  ids, artist = getTrackIDs(i)\n",
        "  mt_list.append(ids)\n",
        "  artist_list.append(artist)"
      ],
      "execution_count": 7,
      "outputs": []
    },
    {
      "cell_type": "code",
      "metadata": {
        "id": "j0KwEWCxErBq"
      },
      "source": [
        "# The funtion collates indepth song data\n",
        "def getTrackFeatures(id,a):\n",
        "  meta = sp.track(id)\n",
        "  features = sp.audio_features(id)\n",
        "  artist_data = sp.artist(a)\n",
        "\n",
        "  # meta\n",
        "  name = meta['name']\n",
        "  album = meta['album']['name']\n",
        "  artist = meta['album']['artists'][0]['name']\n",
        "  if artist_data['genres'] == []:\n",
        "    genre = 'Missing'\n",
        "  else:\n",
        "    genre = artist_data['genres'][0]\n",
        "  release_date = meta['album']['release_date']\n",
        "  length = meta['duration_ms']\n",
        "  popularity = meta['popularity']\n",
        "\n",
        "  # features\n",
        "  acousticness = features[0]['acousticness']\n",
        "  danceability = features[0]['danceability']\n",
        "  energy = features[0]['energy']\n",
        "  instrumentalness = features[0]['instrumentalness']\n",
        "  liveness = features[0]['liveness']\n",
        "  loudness = features[0]['loudness']\n",
        "  speechiness = features[0]['speechiness']\n",
        "  tempo = features[0]['tempo']\n",
        "  time_signature = features[0]['time_signature']\n",
        "\n",
        "  track = [name, album, artist, genre, release_date, length, popularity, danceability, acousticness, energy, instrumentalness, liveness, loudness, speechiness, tempo, time_signature]\n",
        "  return track"
      ],
      "execution_count": 8,
      "outputs": []
    },
    {
      "cell_type": "code",
      "metadata": {
        "id": "PSffxunWwY6i"
      },
      "source": [
        "# Flatten the data from a list of lists structure\n",
        "flat_list = [item for sublist in mt_list for item in sublist]\n",
        "flat_list1 = [item for sublist in artist_list for item in sublist]"
      ],
      "execution_count": 11,
      "outputs": []
    },
    {
      "cell_type": "code",
      "metadata": {
        "id": "VMKRTmM6FiJY"
      },
      "source": [
        "# loop over track ids \n",
        "tracks = []\n",
        "for j in range(len(flat_list1)):\n",
        "  track = getTrackFeatures(flat_list[j], flat_list1[j])\n",
        "  tracks.append(track)\n",
        "\n",
        "# create dataset\n",
        "df = pd.DataFrame(tracks, columns = ['name', 'album', 'artist', 'artist_top_genre', 'release_date', 'length', 'popularity', 'danceability', 'acousticness', 'energy', 'instrumentalness', 'liveness', 'loudness', 'speechiness', 'tempo', 'time_signature'])"
      ],
      "execution_count": 12,
      "outputs": []
    },
    {
      "cell_type": "code",
      "metadata": {
        "id": "Wiz7djuJJDcf",
        "outputId": "3bf90c39-8e8f-40a5-98b7-820bb42ecb74",
        "colab": {
          "base_uri": "https://localhost:8080/",
          "height": 190
        }
      },
      "source": [
        "df.head()"
      ],
      "execution_count": 13,
      "outputs": [
        {
          "output_type": "execute_result",
          "data": {
            "text/html": [
              "<div>\n",
              "<style scoped>\n",
              "    .dataframe tbody tr th:only-of-type {\n",
              "        vertical-align: middle;\n",
              "    }\n",
              "\n",
              "    .dataframe tbody tr th {\n",
              "        vertical-align: top;\n",
              "    }\n",
              "\n",
              "    .dataframe thead th {\n",
              "        text-align: right;\n",
              "    }\n",
              "</style>\n",
              "<table border=\"1\" class=\"dataframe\">\n",
              "  <thead>\n",
              "    <tr style=\"text-align: right;\">\n",
              "      <th></th>\n",
              "      <th>name</th>\n",
              "      <th>album</th>\n",
              "      <th>artist</th>\n",
              "      <th>artist_top_genre</th>\n",
              "      <th>release_date</th>\n",
              "      <th>length</th>\n",
              "      <th>popularity</th>\n",
              "      <th>danceability</th>\n",
              "      <th>acousticness</th>\n",
              "      <th>energy</th>\n",
              "      <th>instrumentalness</th>\n",
              "      <th>liveness</th>\n",
              "      <th>loudness</th>\n",
              "      <th>speechiness</th>\n",
              "      <th>tempo</th>\n",
              "      <th>time_signature</th>\n",
              "    </tr>\n",
              "  </thead>\n",
              "  <tbody>\n",
              "    <tr>\n",
              "      <th>0</th>\n",
              "      <td>Sparky</td>\n",
              "      <td>Mandy &amp; The Jungle</td>\n",
              "      <td>Cruel Santino</td>\n",
              "      <td>alternative r&amp;b</td>\n",
              "      <td>2019-05-17</td>\n",
              "      <td>144000</td>\n",
              "      <td>48</td>\n",
              "      <td>0.666</td>\n",
              "      <td>0.8510</td>\n",
              "      <td>0.420</td>\n",
              "      <td>0.534000</td>\n",
              "      <td>0.1100</td>\n",
              "      <td>-6.699</td>\n",
              "      <td>0.0829</td>\n",
              "      <td>133.015</td>\n",
              "      <td>5</td>\n",
              "    </tr>\n",
              "    <tr>\n",
              "      <th>1</th>\n",
              "      <td>shuga rush</td>\n",
              "      <td>EVERYTHING YOU HEARD IS TRUE</td>\n",
              "      <td>Odunsi (The Engine)</td>\n",
              "      <td>afropop</td>\n",
              "      <td>2020-05-13</td>\n",
              "      <td>89488</td>\n",
              "      <td>30</td>\n",
              "      <td>0.710</td>\n",
              "      <td>0.0822</td>\n",
              "      <td>0.683</td>\n",
              "      <td>0.000169</td>\n",
              "      <td>0.1010</td>\n",
              "      <td>-5.640</td>\n",
              "      <td>0.3600</td>\n",
              "      <td>129.993</td>\n",
              "      <td>3</td>\n",
              "    </tr>\n",
              "    <tr>\n",
              "      <th>2</th>\n",
              "      <td>LITT!</td>\n",
              "      <td>LITT!</td>\n",
              "      <td>AYLØ</td>\n",
              "      <td>indie r&amp;b</td>\n",
              "      <td>2018-06-15</td>\n",
              "      <td>207758</td>\n",
              "      <td>40</td>\n",
              "      <td>0.836</td>\n",
              "      <td>0.2720</td>\n",
              "      <td>0.564</td>\n",
              "      <td>0.000537</td>\n",
              "      <td>0.1100</td>\n",
              "      <td>-7.127</td>\n",
              "      <td>0.0424</td>\n",
              "      <td>130.005</td>\n",
              "      <td>4</td>\n",
              "    </tr>\n",
              "    <tr>\n",
              "      <th>3</th>\n",
              "      <td>Confident / Feeling Cool</td>\n",
              "      <td>Enjoy Your Life</td>\n",
              "      <td>Lady Donli</td>\n",
              "      <td>nigerian pop</td>\n",
              "      <td>2019-08-09</td>\n",
              "      <td>175135</td>\n",
              "      <td>14</td>\n",
              "      <td>0.894</td>\n",
              "      <td>0.7980</td>\n",
              "      <td>0.611</td>\n",
              "      <td>0.000187</td>\n",
              "      <td>0.0964</td>\n",
              "      <td>-4.961</td>\n",
              "      <td>0.1130</td>\n",
              "      <td>111.087</td>\n",
              "      <td>4</td>\n",
              "    </tr>\n",
              "    <tr>\n",
              "      <th>4</th>\n",
              "      <td>wanted you</td>\n",
              "      <td>rare.</td>\n",
              "      <td>Odunsi (The Engine)</td>\n",
              "      <td>afropop</td>\n",
              "      <td>2018-10-12</td>\n",
              "      <td>152049</td>\n",
              "      <td>25</td>\n",
              "      <td>0.702</td>\n",
              "      <td>0.1160</td>\n",
              "      <td>0.833</td>\n",
              "      <td>0.910000</td>\n",
              "      <td>0.3480</td>\n",
              "      <td>-6.044</td>\n",
              "      <td>0.0447</td>\n",
              "      <td>105.115</td>\n",
              "      <td>4</td>\n",
              "    </tr>\n",
              "  </tbody>\n",
              "</table>\n",
              "</div>"
            ],
            "text/plain": [
              "                       name  ... time_signature\n",
              "0                    Sparky  ...              5\n",
              "1                shuga rush  ...              3\n",
              "2                     LITT!  ...              4\n",
              "3  Confident / Feeling Cool  ...              4\n",
              "4                wanted you  ...              4\n",
              "\n",
              "[5 rows x 16 columns]"
            ]
          },
          "metadata": {
            "tags": []
          },
          "execution_count": 13
        }
      ]
    },
    {
      "cell_type": "code",
      "metadata": {
        "id": "I_tlNQglFtZ8",
        "outputId": "8ebfdc1f-2b02-424d-d7e8-c14b596eff17",
        "colab": {
          "base_uri": "https://localhost:8080/",
          "height": 403
        }
      },
      "source": [
        "df.info()"
      ],
      "execution_count": 15,
      "outputs": [
        {
          "output_type": "stream",
          "text": [
            "<class 'pandas.core.frame.DataFrame'>\n",
            "RangeIndex: 576 entries, 0 to 575\n",
            "Data columns (total 16 columns):\n",
            " #   Column            Non-Null Count  Dtype  \n",
            "---  ------            --------------  -----  \n",
            " 0   name              576 non-null    object \n",
            " 1   album             576 non-null    object \n",
            " 2   artist            576 non-null    object \n",
            " 3   artist_top_genre  576 non-null    object \n",
            " 4   release_date      576 non-null    object \n",
            " 5   length            576 non-null    int64  \n",
            " 6   popularity        576 non-null    int64  \n",
            " 7   danceability      576 non-null    float64\n",
            " 8   acousticness      576 non-null    float64\n",
            " 9   energy            576 non-null    float64\n",
            " 10  instrumentalness  576 non-null    float64\n",
            " 11  liveness          576 non-null    float64\n",
            " 12  loudness          576 non-null    float64\n",
            " 13  speechiness       576 non-null    float64\n",
            " 14  tempo             576 non-null    float64\n",
            " 15  time_signature    576 non-null    int64  \n",
            "dtypes: float64(8), int64(3), object(5)\n",
            "memory usage: 72.1+ KB\n"
          ],
          "name": "stdout"
        }
      ]
    },
    {
      "cell_type": "code",
      "metadata": {
        "id": "JhcI5qBQyFlK",
        "outputId": "efadea57-e17a-4429-e520-ecdfc94d4c08",
        "colab": {
          "base_uri": "https://localhost:8080/",
          "height": 403
        }
      },
      "source": [
        "df.drop_duplicates(inplace=True)\n",
        "df.info()"
      ],
      "execution_count": 16,
      "outputs": [
        {
          "output_type": "stream",
          "text": [
            "<class 'pandas.core.frame.DataFrame'>\n",
            "Int64Index: 530 entries, 0 to 575\n",
            "Data columns (total 16 columns):\n",
            " #   Column            Non-Null Count  Dtype  \n",
            "---  ------            --------------  -----  \n",
            " 0   name              530 non-null    object \n",
            " 1   album             530 non-null    object \n",
            " 2   artist            530 non-null    object \n",
            " 3   artist_top_genre  530 non-null    object \n",
            " 4   release_date      530 non-null    object \n",
            " 5   length            530 non-null    int64  \n",
            " 6   popularity        530 non-null    int64  \n",
            " 7   danceability      530 non-null    float64\n",
            " 8   acousticness      530 non-null    float64\n",
            " 9   energy            530 non-null    float64\n",
            " 10  instrumentalness  530 non-null    float64\n",
            " 11  liveness          530 non-null    float64\n",
            " 12  loudness          530 non-null    float64\n",
            " 13  speechiness       530 non-null    float64\n",
            " 14  tempo             530 non-null    float64\n",
            " 15  time_signature    530 non-null    int64  \n",
            "dtypes: float64(8), int64(3), object(5)\n",
            "memory usage: 70.4+ KB\n"
          ],
          "name": "stdout"
        }
      ]
    },
    {
      "cell_type": "markdown",
      "metadata": {
        "id": "i1YV4c7tkyJT"
      },
      "source": [
        "Our dataset has been collected with 530 unique entries"
      ]
    },
    {
      "cell_type": "code",
      "metadata": {
        "id": "0InFIDeMKgsD",
        "outputId": "0be8b066-e0bb-4e47-80e0-fc91b375aae6",
        "colab": {
          "base_uri": "https://localhost:8080/",
          "height": 33
        }
      },
      "source": [
        "df['release_date'].nunique()"
      ],
      "execution_count": 17,
      "outputs": [
        {
          "output_type": "execute_result",
          "data": {
            "text/plain": [
              "393"
            ]
          },
          "metadata": {
            "tags": []
          },
          "execution_count": 17
        }
      ]
    },
    {
      "cell_type": "markdown",
      "metadata": {
        "id": "1BRZu2cZk6pI"
      },
      "source": [
        "The formatting of release dates does not need to include the specific day and month, as it needlessly inflates the release date variable"
      ]
    },
    {
      "cell_type": "code",
      "metadata": {
        "id": "8oxfciXWz8fs",
        "outputId": "d471be30-2a04-4aca-d2a6-7bd6b21df19d",
        "colab": {
          "base_uri": "https://localhost:8080/",
          "height": 33
        }
      },
      "source": [
        "df['release_date'] = pd.to_datetime(df['release_date'])\n",
        "df['release_date'] = pd.DatetimeIndex(df['release_date']).year\n",
        "df['release_date'].nunique()"
      ],
      "execution_count": 18,
      "outputs": [
        {
          "output_type": "execute_result",
          "data": {
            "text/plain": [
              "20"
            ]
          },
          "metadata": {
            "tags": []
          },
          "execution_count": 18
        }
      ]
    },
    {
      "cell_type": "markdown",
      "metadata": {
        "id": "9zf4kAI5lP6W"
      },
      "source": [
        "We have at least one song for two decades in this dataset"
      ]
    },
    {
      "cell_type": "code",
      "metadata": {
        "id": "UPi7BjLMzlhg",
        "outputId": "0ad494db-dbfa-4190-9838-d3bd0f3dc125",
        "colab": {
          "base_uri": "https://localhost:8080/",
          "height": 190
        }
      },
      "source": [
        "df.head()"
      ],
      "execution_count": 19,
      "outputs": [
        {
          "output_type": "execute_result",
          "data": {
            "text/html": [
              "<div>\n",
              "<style scoped>\n",
              "    .dataframe tbody tr th:only-of-type {\n",
              "        vertical-align: middle;\n",
              "    }\n",
              "\n",
              "    .dataframe tbody tr th {\n",
              "        vertical-align: top;\n",
              "    }\n",
              "\n",
              "    .dataframe thead th {\n",
              "        text-align: right;\n",
              "    }\n",
              "</style>\n",
              "<table border=\"1\" class=\"dataframe\">\n",
              "  <thead>\n",
              "    <tr style=\"text-align: right;\">\n",
              "      <th></th>\n",
              "      <th>name</th>\n",
              "      <th>album</th>\n",
              "      <th>artist</th>\n",
              "      <th>artist_top_genre</th>\n",
              "      <th>release_date</th>\n",
              "      <th>length</th>\n",
              "      <th>popularity</th>\n",
              "      <th>danceability</th>\n",
              "      <th>acousticness</th>\n",
              "      <th>energy</th>\n",
              "      <th>instrumentalness</th>\n",
              "      <th>liveness</th>\n",
              "      <th>loudness</th>\n",
              "      <th>speechiness</th>\n",
              "      <th>tempo</th>\n",
              "      <th>time_signature</th>\n",
              "    </tr>\n",
              "  </thead>\n",
              "  <tbody>\n",
              "    <tr>\n",
              "      <th>0</th>\n",
              "      <td>Sparky</td>\n",
              "      <td>Mandy &amp; The Jungle</td>\n",
              "      <td>Cruel Santino</td>\n",
              "      <td>alternative r&amp;b</td>\n",
              "      <td>2019</td>\n",
              "      <td>144000</td>\n",
              "      <td>48</td>\n",
              "      <td>0.666</td>\n",
              "      <td>0.8510</td>\n",
              "      <td>0.420</td>\n",
              "      <td>0.534000</td>\n",
              "      <td>0.1100</td>\n",
              "      <td>-6.699</td>\n",
              "      <td>0.0829</td>\n",
              "      <td>133.015</td>\n",
              "      <td>5</td>\n",
              "    </tr>\n",
              "    <tr>\n",
              "      <th>1</th>\n",
              "      <td>shuga rush</td>\n",
              "      <td>EVERYTHING YOU HEARD IS TRUE</td>\n",
              "      <td>Odunsi (The Engine)</td>\n",
              "      <td>afropop</td>\n",
              "      <td>2020</td>\n",
              "      <td>89488</td>\n",
              "      <td>30</td>\n",
              "      <td>0.710</td>\n",
              "      <td>0.0822</td>\n",
              "      <td>0.683</td>\n",
              "      <td>0.000169</td>\n",
              "      <td>0.1010</td>\n",
              "      <td>-5.640</td>\n",
              "      <td>0.3600</td>\n",
              "      <td>129.993</td>\n",
              "      <td>3</td>\n",
              "    </tr>\n",
              "    <tr>\n",
              "      <th>2</th>\n",
              "      <td>LITT!</td>\n",
              "      <td>LITT!</td>\n",
              "      <td>AYLØ</td>\n",
              "      <td>indie r&amp;b</td>\n",
              "      <td>2018</td>\n",
              "      <td>207758</td>\n",
              "      <td>40</td>\n",
              "      <td>0.836</td>\n",
              "      <td>0.2720</td>\n",
              "      <td>0.564</td>\n",
              "      <td>0.000537</td>\n",
              "      <td>0.1100</td>\n",
              "      <td>-7.127</td>\n",
              "      <td>0.0424</td>\n",
              "      <td>130.005</td>\n",
              "      <td>4</td>\n",
              "    </tr>\n",
              "    <tr>\n",
              "      <th>3</th>\n",
              "      <td>Confident / Feeling Cool</td>\n",
              "      <td>Enjoy Your Life</td>\n",
              "      <td>Lady Donli</td>\n",
              "      <td>nigerian pop</td>\n",
              "      <td>2019</td>\n",
              "      <td>175135</td>\n",
              "      <td>14</td>\n",
              "      <td>0.894</td>\n",
              "      <td>0.7980</td>\n",
              "      <td>0.611</td>\n",
              "      <td>0.000187</td>\n",
              "      <td>0.0964</td>\n",
              "      <td>-4.961</td>\n",
              "      <td>0.1130</td>\n",
              "      <td>111.087</td>\n",
              "      <td>4</td>\n",
              "    </tr>\n",
              "    <tr>\n",
              "      <th>4</th>\n",
              "      <td>wanted you</td>\n",
              "      <td>rare.</td>\n",
              "      <td>Odunsi (The Engine)</td>\n",
              "      <td>afropop</td>\n",
              "      <td>2018</td>\n",
              "      <td>152049</td>\n",
              "      <td>25</td>\n",
              "      <td>0.702</td>\n",
              "      <td>0.1160</td>\n",
              "      <td>0.833</td>\n",
              "      <td>0.910000</td>\n",
              "      <td>0.3480</td>\n",
              "      <td>-6.044</td>\n",
              "      <td>0.0447</td>\n",
              "      <td>105.115</td>\n",
              "      <td>4</td>\n",
              "    </tr>\n",
              "  </tbody>\n",
              "</table>\n",
              "</div>"
            ],
            "text/plain": [
              "                       name  ... time_signature\n",
              "0                    Sparky  ...              5\n",
              "1                shuga rush  ...              3\n",
              "2                     LITT!  ...              4\n",
              "3  Confident / Feeling Cool  ...              4\n",
              "4                wanted you  ...              4\n",
              "\n",
              "[5 rows x 16 columns]"
            ]
          },
          "metadata": {
            "tags": []
          },
          "execution_count": 19
        }
      ]
    },
    {
      "cell_type": "code",
      "metadata": {
        "id": "boIHpQe01RIp",
        "outputId": "0ad18515-cbf9-4e67-ba85-54cffa7a993a",
        "colab": {
          "base_uri": "https://localhost:8080/",
          "height": 369
        }
      },
      "source": [
        "df['release_date'].value_counts()"
      ],
      "execution_count": 20,
      "outputs": [
        {
          "output_type": "execute_result",
          "data": {
            "text/plain": [
              "2016    95\n",
              "2017    83\n",
              "2014    75\n",
              "2015    55\n",
              "2019    51\n",
              "2018    47\n",
              "2020    25\n",
              "2013    25\n",
              "2012    22\n",
              "2011    16\n",
              "2009    11\n",
              "2010     9\n",
              "2008     7\n",
              "2004     2\n",
              "2003     2\n",
              "2007     1\n",
              "2006     1\n",
              "2001     1\n",
              "2000     1\n",
              "1998     1\n",
              "Name: release_date, dtype: int64"
            ]
          },
          "metadata": {
            "tags": []
          },
          "execution_count": 20
        }
      ]
    },
    {
      "cell_type": "markdown",
      "metadata": {
        "id": "TaiF0sYNlf-Z"
      },
      "source": [
        "The data can be limited to 2010 downwards as the rest occupy very little space in the dataset"
      ]
    },
    {
      "cell_type": "code",
      "metadata": {
        "id": "0Cfxv1w5d9aq",
        "outputId": "71b37afb-a44e-4bea-8c4c-a8b2a81fc129",
        "colab": {
          "base_uri": "https://localhost:8080/",
          "height": 100
        }
      },
      "source": [
        "df['artist_top_genre'].unique()"
      ],
      "execution_count": null,
      "outputs": [
        {
          "output_type": "execute_result",
          "data": {
            "text/plain": [
              "array(['alternative r&b', 'afropop', 'indie r&b', 'nigerian pop',\n",
              "       'afro r&b', 'afro dancehall', 'Missing', 'azonto', 'soft rock',\n",
              "       'hiplife', 'erotica', 'nigerian hip hop', 'highlife',\n",
              "       'azontobeats', 'south african house', 'bongo flava', 'afroswing',\n",
              "       'gqom', 'christian afrobeat'], dtype=object)"
            ]
          },
          "metadata": {
            "tags": []
          },
          "execution_count": 72
        }
      ]
    },
    {
      "cell_type": "code",
      "metadata": {
        "id": "HhG9XgxJVWkT",
        "outputId": "42e01e37-5376-4fd3-bcdf-5a4d9aff0d94",
        "colab": {
          "base_uri": "https://localhost:8080/",
          "height": 352
        }
      },
      "source": [
        "df['artist_top_genre'].value_counts()"
      ],
      "execution_count": 21,
      "outputs": [
        {
          "output_type": "execute_result",
          "data": {
            "text/plain": [
              "afro dancehall         328\n",
              "afropop                 90\n",
              "Missing                 53\n",
              "nigerian pop            24\n",
              "azontobeats              8\n",
              "alternative r&b          7\n",
              "indie r&b                4\n",
              "nigerian hip hop         3\n",
              "afro r&b                 3\n",
              "soft rock                1\n",
              "highlife                 1\n",
              "gqom                     1\n",
              "south african house      1\n",
              "erotica                  1\n",
              "bongo flava              1\n",
              "azonto                   1\n",
              "christian afrobeat       1\n",
              "hiplife                  1\n",
              "afroswing                1\n",
              "Name: artist_top_genre, dtype: int64"
            ]
          },
          "metadata": {
            "tags": []
          },
          "execution_count": 21
        }
      ]
    },
    {
      "cell_type": "markdown",
      "metadata": {
        "id": "whxQpMBdl3UE"
      },
      "source": [
        "Again we see a few categories having a large percentage of the entries in the dataset. Also, 53 of the entries in the entire dataset have no genre data attached, marking them as Missing (the third highest category)"
      ]
    },
    {
      "cell_type": "code",
      "metadata": {
        "id": "uFETdfEDeIhn",
        "outputId": "791ef07d-c7d6-49f3-f088-00323e6f8d18",
        "colab": {
          "base_uri": "https://localhost:8080/",
          "height": 75
        }
      },
      "source": [
        "df[df['artist_top_genre'] == 'bongo flava']"
      ],
      "execution_count": null,
      "outputs": [
        {
          "output_type": "execute_result",
          "data": {
            "text/html": [
              "<div>\n",
              "<style scoped>\n",
              "    .dataframe tbody tr th:only-of-type {\n",
              "        vertical-align: middle;\n",
              "    }\n",
              "\n",
              "    .dataframe tbody tr th {\n",
              "        vertical-align: top;\n",
              "    }\n",
              "\n",
              "    .dataframe thead th {\n",
              "        text-align: right;\n",
              "    }\n",
              "</style>\n",
              "<table border=\"1\" class=\"dataframe\">\n",
              "  <thead>\n",
              "    <tr style=\"text-align: right;\">\n",
              "      <th></th>\n",
              "      <th>name</th>\n",
              "      <th>album</th>\n",
              "      <th>artist</th>\n",
              "      <th>artist_top_genre</th>\n",
              "      <th>release_date</th>\n",
              "      <th>length</th>\n",
              "      <th>popularity</th>\n",
              "      <th>danceability</th>\n",
              "      <th>acousticness</th>\n",
              "      <th>energy</th>\n",
              "      <th>instrumentalness</th>\n",
              "      <th>liveness</th>\n",
              "      <th>loudness</th>\n",
              "      <th>speechiness</th>\n",
              "      <th>tempo</th>\n",
              "      <th>time_signature</th>\n",
              "    </tr>\n",
              "  </thead>\n",
              "  <tbody>\n",
              "    <tr>\n",
              "      <th>401</th>\n",
              "      <td>Baby Oku (Gyration)</td>\n",
              "      <td>Super Sexy</td>\n",
              "      <td>Various Artists</td>\n",
              "      <td>bongo flava</td>\n",
              "      <td>2015</td>\n",
              "      <td>197224</td>\n",
              "      <td>0</td>\n",
              "      <td>0.639</td>\n",
              "      <td>0.229</td>\n",
              "      <td>0.97</td>\n",
              "      <td>0.00937</td>\n",
              "      <td>0.259</td>\n",
              "      <td>-1.68</td>\n",
              "      <td>0.0418</td>\n",
              "      <td>104.178</td>\n",
              "      <td>3</td>\n",
              "    </tr>\n",
              "  </tbody>\n",
              "</table>\n",
              "</div>"
            ],
            "text/plain": [
              "                    name       album  ...    tempo time_signature\n",
              "401  Baby Oku (Gyration)  Super Sexy  ...  104.178              3\n",
              "\n",
              "[1 rows x 16 columns]"
            ]
          },
          "metadata": {
            "tags": []
          },
          "execution_count": 75
        }
      ]
    },
    {
      "cell_type": "markdown",
      "metadata": {
        "id": "tD4zFZtWmnEF"
      },
      "source": [
        "Checking a few esoteric genres "
      ]
    },
    {
      "cell_type": "code",
      "metadata": {
        "id": "b51sW9oFdqdE"
      },
      "source": [
        "df.to_csv('nigerian_spotify_songs1.csv', index=False, encoding='utf-8')"
      ],
      "execution_count": null,
      "outputs": []
    }
  ]
}