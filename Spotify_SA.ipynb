{
  "nbformat": 4,
  "nbformat_minor": 0,
  "metadata": {
    "colab": {
      "name": "Spotify_SA.ipynb",
      "provenance": [],
      "authorship_tag": "ABX9TyPJcnbDQmljszHc1ElbYapg",
      "include_colab_link": true
    },
    "kernelspec": {
      "name": "python3",
      "display_name": "Python 3"
    }
  },
  "cells": [
    {
      "cell_type": "markdown",
      "metadata": {
        "id": "view-in-github",
        "colab_type": "text"
      },
      "source": [
        "<a href=\"https://colab.research.google.com/github/Soot3/Spotify-Analysis/blob/main/Spotify_SA.ipynb\" target=\"_parent\"><img src=\"https://colab.research.google.com/assets/colab-badge.svg\" alt=\"Open In Colab\"/></a>"
      ]
    },
    {
      "cell_type": "markdown",
      "metadata": {
        "id": "YOtgzaEiER1U"
      },
      "source": [
        "Spotify computes the Top 200 songs streamed per region, the data is collated [here](https://spotifycharts.com/)"
      ]
    },
    {
      "cell_type": "code",
      "metadata": {
        "id": "bYbtsw7B1K-W"
      },
      "source": [
        "import pandas as pd"
      ],
      "execution_count": 1,
      "outputs": []
    },
    {
      "cell_type": "markdown",
      "metadata": {
        "id": "DpvWF5unE3Jf"
      },
      "source": [
        "The data is updated every week, so we will be looking at data from October 2019 to October 2020 with approximately a year's worth of data"
      ]
    },
    {
      "cell_type": "code",
      "metadata": {
        "id": "aIlL9qFV63bk"
      },
      "source": [
        "# Compiling the csv files\n",
        "import os, glob\n",
        "\n",
        "path = \"/content/\"\n",
        "\n",
        "all_files = glob.glob(os.path.join(path, \"*.csv\"))\n",
        "\n",
        "all_df = []\n",
        "for f in all_files:\n",
        "    df = pd.read_csv(f, skiprows=1)\n",
        "    df['Week'] = f.split('/')[-1]\n",
        "    df['Week'] = df['Week'].str.replace('regional-za-weekly-','').str.replace('.csv','')\n",
        "    all_df.append(df)\n",
        "    \n",
        "merged_df = pd.concat(all_df, ignore_index=True, sort=True)"
      ],
      "execution_count": 17,
      "outputs": []
    },
    {
      "cell_type": "code",
      "metadata": {
        "id": "gd2BIBPo8yEg",
        "outputId": "cad03152-153e-4a5a-d614-a86fbe201dac",
        "colab": {
          "base_uri": "https://localhost:8080/",
          "height": 190
        }
      },
      "source": [
        "merged_df.head()"
      ],
      "execution_count": 18,
      "outputs": [
        {
          "output_type": "execute_result",
          "data": {
            "text/html": [
              "<div>\n",
              "<style scoped>\n",
              "    .dataframe tbody tr th:only-of-type {\n",
              "        vertical-align: middle;\n",
              "    }\n",
              "\n",
              "    .dataframe tbody tr th {\n",
              "        vertical-align: top;\n",
              "    }\n",
              "\n",
              "    .dataframe thead th {\n",
              "        text-align: right;\n",
              "    }\n",
              "</style>\n",
              "<table border=\"1\" class=\"dataframe\">\n",
              "  <thead>\n",
              "    <tr style=\"text-align: right;\">\n",
              "      <th></th>\n",
              "      <th>Artist</th>\n",
              "      <th>Position</th>\n",
              "      <th>Streams</th>\n",
              "      <th>Track Name</th>\n",
              "      <th>URL</th>\n",
              "      <th>Week</th>\n",
              "    </tr>\n",
              "  </thead>\n",
              "  <tbody>\n",
              "    <tr>\n",
              "      <th>0</th>\n",
              "      <td>Roddy Ricch</td>\n",
              "      <td>1</td>\n",
              "      <td>90253</td>\n",
              "      <td>The Box</td>\n",
              "      <td>https://open.spotify.com/track/0nbXyq5TXYPCO7p...</td>\n",
              "      <td>2020-02-21--2020-02-28</td>\n",
              "    </tr>\n",
              "    <tr>\n",
              "      <th>1</th>\n",
              "      <td>Tones And I</td>\n",
              "      <td>2</td>\n",
              "      <td>72898</td>\n",
              "      <td>Dance Monkey</td>\n",
              "      <td>https://open.spotify.com/track/1rgnBhdG2JDFTbY...</td>\n",
              "      <td>2020-02-21--2020-02-28</td>\n",
              "    </tr>\n",
              "    <tr>\n",
              "      <th>2</th>\n",
              "      <td>The Weeknd</td>\n",
              "      <td>3</td>\n",
              "      <td>71787</td>\n",
              "      <td>Blinding Lights</td>\n",
              "      <td>https://open.spotify.com/track/0sf12qNH5qcw8qp...</td>\n",
              "      <td>2020-02-21--2020-02-28</td>\n",
              "    </tr>\n",
              "    <tr>\n",
              "      <th>3</th>\n",
              "      <td>Future</td>\n",
              "      <td>4</td>\n",
              "      <td>64670</td>\n",
              "      <td>Life Is Good (feat. Drake)</td>\n",
              "      <td>https://open.spotify.com/track/5yY9lUy8nbvjM1U...</td>\n",
              "      <td>2020-02-21--2020-02-28</td>\n",
              "    </tr>\n",
              "    <tr>\n",
              "      <th>4</th>\n",
              "      <td>Kabza De Small</td>\n",
              "      <td>5</td>\n",
              "      <td>64600</td>\n",
              "      <td>eMcimbini - Live</td>\n",
              "      <td>https://open.spotify.com/track/2YXf32CaC2PzXIg...</td>\n",
              "      <td>2020-02-21--2020-02-28</td>\n",
              "    </tr>\n",
              "  </tbody>\n",
              "</table>\n",
              "</div>"
            ],
            "text/plain": [
              "           Artist  ...                    Week\n",
              "0     Roddy Ricch  ...  2020-02-21--2020-02-28\n",
              "1     Tones And I  ...  2020-02-21--2020-02-28\n",
              "2      The Weeknd  ...  2020-02-21--2020-02-28\n",
              "3          Future  ...  2020-02-21--2020-02-28\n",
              "4  Kabza De Small  ...  2020-02-21--2020-02-28\n",
              "\n",
              "[5 rows x 6 columns]"
            ]
          },
          "metadata": {
            "tags": []
          },
          "execution_count": 18
        }
      ]
    },
    {
      "cell_type": "code",
      "metadata": {
        "id": "9I_VSb1p8077",
        "outputId": "1f434558-3df0-4dea-9c6d-6b95a722978a",
        "colab": {
          "base_uri": "https://localhost:8080/",
          "height": 33
        }
      },
      "source": [
        "merged_df['Week'].nunique()"
      ],
      "execution_count": 19,
      "outputs": [
        {
          "output_type": "execute_result",
          "data": {
            "text/plain": [
              "54"
            ]
          },
          "metadata": {
            "tags": []
          },
          "execution_count": 19
        }
      ]
    },
    {
      "cell_type": "markdown",
      "metadata": {
        "id": "AM3i06Ia_rWr"
      },
      "source": [
        "A year's worth of Top 200 Spotify songs streamed in South Africa"
      ]
    },
    {
      "cell_type": "code",
      "metadata": {
        "id": "h72slXgn9Hb6",
        "outputId": "80b8abba-5298-40dc-cbee-2dd642e25e8a",
        "colab": {
          "base_uri": "https://localhost:8080/",
          "height": 235
        }
      },
      "source": [
        "merged_df.info()"
      ],
      "execution_count": 3,
      "outputs": [
        {
          "output_type": "stream",
          "text": [
            "<class 'pandas.core.frame.DataFrame'>\n",
            "RangeIndex: 10800 entries, 0 to 10799\n",
            "Data columns (total 6 columns):\n",
            " #   Column      Non-Null Count  Dtype \n",
            "---  ------      --------------  ----- \n",
            " 0   Artist      10800 non-null  object\n",
            " 1   Position    10800 non-null  int64 \n",
            " 2   Streams     10800 non-null  int64 \n",
            " 3   Track Name  10800 non-null  object\n",
            " 4   URL         10800 non-null  object\n",
            " 5   Week        10800 non-null  object\n",
            "dtypes: int64(2), object(4)\n",
            "memory usage: 506.4+ KB\n"
          ],
          "name": "stdout"
        }
      ]
    },
    {
      "cell_type": "code",
      "metadata": {
        "id": "fMSx-Qt19Xgq",
        "outputId": "52616d3b-fb05-4486-b98d-4c09d7d7e2f4",
        "colab": {
          "base_uri": "https://localhost:8080/",
          "height": 334
        }
      },
      "source": [
        "songs = merged_df.groupby(['Track Name', 'Artist'], as_index=False)['Streams'].sum()\n",
        "songs.sort_values(by='Streams', ascending=False).head(10)"
      ],
      "execution_count": 4,
      "outputs": [
        {
          "output_type": "execute_result",
          "data": {
            "text/html": [
              "<div>\n",
              "<style scoped>\n",
              "    .dataframe tbody tr th:only-of-type {\n",
              "        vertical-align: middle;\n",
              "    }\n",
              "\n",
              "    .dataframe tbody tr th {\n",
              "        vertical-align: top;\n",
              "    }\n",
              "\n",
              "    .dataframe thead th {\n",
              "        text-align: right;\n",
              "    }\n",
              "</style>\n",
              "<table border=\"1\" class=\"dataframe\">\n",
              "  <thead>\n",
              "    <tr style=\"text-align: right;\">\n",
              "      <th></th>\n",
              "      <th>Track Name</th>\n",
              "      <th>Artist</th>\n",
              "      <th>Streams</th>\n",
              "    </tr>\n",
              "  </thead>\n",
              "  <tbody>\n",
              "    <tr>\n",
              "      <th>186</th>\n",
              "      <td>Dance Monkey</td>\n",
              "      <td>Tones And I</td>\n",
              "      <td>3413872</td>\n",
              "    </tr>\n",
              "    <tr>\n",
              "      <th>111</th>\n",
              "      <td>Blinding Lights</td>\n",
              "      <td>The Weeknd</td>\n",
              "      <td>3061373</td>\n",
              "    </tr>\n",
              "    <tr>\n",
              "      <th>911</th>\n",
              "      <td>The Box</td>\n",
              "      <td>Roddy Ricch</td>\n",
              "      <td>2571056</td>\n",
              "    </tr>\n",
              "    <tr>\n",
              "      <th>158</th>\n",
              "      <td>Circles</td>\n",
              "      <td>Post Malone</td>\n",
              "      <td>2547789</td>\n",
              "    </tr>\n",
              "    <tr>\n",
              "      <th>573</th>\n",
              "      <td>Memories</td>\n",
              "      <td>Maroon 5</td>\n",
              "      <td>2405041</td>\n",
              "    </tr>\n",
              "    <tr>\n",
              "      <th>833</th>\n",
              "      <td>Someone You Loved</td>\n",
              "      <td>Lewis Capaldi</td>\n",
              "      <td>2279987</td>\n",
              "    </tr>\n",
              "    <tr>\n",
              "      <th>756</th>\n",
              "      <td>Roses - Imanbek Remix</td>\n",
              "      <td>SAINt JHN</td>\n",
              "      <td>2247756</td>\n",
              "    </tr>\n",
              "    <tr>\n",
              "      <th>219</th>\n",
              "      <td>Don't Start Now</td>\n",
              "      <td>Dua Lipa</td>\n",
              "      <td>2244422</td>\n",
              "    </tr>\n",
              "    <tr>\n",
              "      <th>91</th>\n",
              "      <td>Beautiful People (feat. Khalid)</td>\n",
              "      <td>Ed Sheeran</td>\n",
              "      <td>2097508</td>\n",
              "    </tr>\n",
              "    <tr>\n",
              "      <th>728</th>\n",
              "      <td>ROCKSTAR (feat. Roddy Ricch)</td>\n",
              "      <td>DaBaby</td>\n",
              "      <td>1964058</td>\n",
              "    </tr>\n",
              "  </tbody>\n",
              "</table>\n",
              "</div>"
            ],
            "text/plain": [
              "                          Track Name         Artist  Streams\n",
              "186                     Dance Monkey    Tones And I  3413872\n",
              "111                  Blinding Lights     The Weeknd  3061373\n",
              "911                          The Box    Roddy Ricch  2571056\n",
              "158                          Circles    Post Malone  2547789\n",
              "573                         Memories       Maroon 5  2405041\n",
              "833                Someone You Loved  Lewis Capaldi  2279987\n",
              "756            Roses - Imanbek Remix      SAINt JHN  2247756\n",
              "219                  Don't Start Now       Dua Lipa  2244422\n",
              "91   Beautiful People (feat. Khalid)     Ed Sheeran  2097508\n",
              "728     ROCKSTAR (feat. Roddy Ricch)         DaBaby  1964058"
            ]
          },
          "metadata": {
            "tags": []
          },
          "execution_count": 4
        }
      ]
    },
    {
      "cell_type": "markdown",
      "metadata": {
        "id": "Qzw8P78a-tPY"
      },
      "source": [
        "Highest number of streams in total, a sign of their dominance over time"
      ]
    },
    {
      "cell_type": "code",
      "metadata": {
        "id": "wMWjdLfs-8Lu",
        "outputId": "2ae4b0e3-5257-4f07-89d5-8cbbee0b7fca",
        "colab": {
          "base_uri": "https://localhost:8080/",
          "height": 334
        }
      },
      "source": [
        "songs_avg = merged_df.groupby(['Track Name', 'Artist'], as_index=False)['Streams'].mean()\n",
        "songs_avg.sort_values(by='Streams', ascending=False).head(10)"
      ],
      "execution_count": 5,
      "outputs": [
        {
          "output_type": "execute_result",
          "data": {
            "text/html": [
              "<div>\n",
              "<style scoped>\n",
              "    .dataframe tbody tr th:only-of-type {\n",
              "        vertical-align: middle;\n",
              "    }\n",
              "\n",
              "    .dataframe tbody tr th {\n",
              "        vertical-align: top;\n",
              "    }\n",
              "\n",
              "    .dataframe thead th {\n",
              "        text-align: right;\n",
              "    }\n",
              "</style>\n",
              "<table border=\"1\" class=\"dataframe\">\n",
              "  <thead>\n",
              "    <tr style=\"text-align: right;\">\n",
              "      <th></th>\n",
              "      <th>Track Name</th>\n",
              "      <th>Artist</th>\n",
              "      <th>Streams</th>\n",
              "    </tr>\n",
              "  </thead>\n",
              "  <tbody>\n",
              "    <tr>\n",
              "      <th>989</th>\n",
              "      <td>WAP (feat. Megan Thee Stallion)</td>\n",
              "      <td>Cardi B</td>\n",
              "      <td>97671.818182</td>\n",
              "    </tr>\n",
              "    <tr>\n",
              "      <th>494</th>\n",
              "      <td>Laugh Now Cry Later (feat. Lil Durk)</td>\n",
              "      <td>Drake</td>\n",
              "      <td>84061.200000</td>\n",
              "    </tr>\n",
              "    <tr>\n",
              "      <th>587</th>\n",
              "      <td>Mood (feat. iann dior)</td>\n",
              "      <td>24kGoldn</td>\n",
              "      <td>76964.200000</td>\n",
              "    </tr>\n",
              "    <tr>\n",
              "      <th>499</th>\n",
              "      <td>Lemonade (feat. Gunna, Don Toliver &amp; NAV)</td>\n",
              "      <td>Internet Money</td>\n",
              "      <td>73855.750000</td>\n",
              "    </tr>\n",
              "    <tr>\n",
              "      <th>728</th>\n",
              "      <td>ROCKSTAR (feat. Roddy Ricch)</td>\n",
              "      <td>DaBaby</td>\n",
              "      <td>72742.888889</td>\n",
              "    </tr>\n",
              "    <tr>\n",
              "      <th>111</th>\n",
              "      <td>Blinding Lights</td>\n",
              "      <td>The Weeknd</td>\n",
              "      <td>65135.595745</td>\n",
              "    </tr>\n",
              "    <tr>\n",
              "      <th>1044</th>\n",
              "      <td>Xola Moya Wam'</td>\n",
              "      <td>Nomcebo Zikode</td>\n",
              "      <td>64290.200000</td>\n",
              "    </tr>\n",
              "    <tr>\n",
              "      <th>186</th>\n",
              "      <td>Dance Monkey</td>\n",
              "      <td>Tones And I</td>\n",
              "      <td>63219.851852</td>\n",
              "    </tr>\n",
              "    <tr>\n",
              "      <th>947</th>\n",
              "      <td>Toosie Slide</td>\n",
              "      <td>Drake</td>\n",
              "      <td>61276.620690</td>\n",
              "    </tr>\n",
              "    <tr>\n",
              "      <th>467</th>\n",
              "      <td>John Vuli Gate</td>\n",
              "      <td>Mapara A Jazz</td>\n",
              "      <td>58451.500000</td>\n",
              "    </tr>\n",
              "  </tbody>\n",
              "</table>\n",
              "</div>"
            ],
            "text/plain": [
              "                                     Track Name          Artist       Streams\n",
              "989             WAP (feat. Megan Thee Stallion)         Cardi B  97671.818182\n",
              "494        Laugh Now Cry Later (feat. Lil Durk)           Drake  84061.200000\n",
              "587                      Mood (feat. iann dior)        24kGoldn  76964.200000\n",
              "499   Lemonade (feat. Gunna, Don Toliver & NAV)  Internet Money  73855.750000\n",
              "728                ROCKSTAR (feat. Roddy Ricch)          DaBaby  72742.888889\n",
              "111                             Blinding Lights      The Weeknd  65135.595745\n",
              "1044                             Xola Moya Wam'  Nomcebo Zikode  64290.200000\n",
              "186                                Dance Monkey     Tones And I  63219.851852\n",
              "947                                Toosie Slide           Drake  61276.620690\n",
              "467                              John Vuli Gate   Mapara A Jazz  58451.500000"
            ]
          },
          "metadata": {
            "tags": []
          },
          "execution_count": 5
        }
      ]
    },
    {
      "cell_type": "markdown",
      "metadata": {
        "id": "igzmJGt3_FoH"
      },
      "source": [
        "Number of streams on average, can be seen to favour newer songs as they haven't had a downturn in streams yet that will lower the average"
      ]
    },
    {
      "cell_type": "code",
      "metadata": {
        "id": "vVlmsxDq90EW",
        "outputId": "e22811ca-5ee3-47fe-8065-7006216e2831",
        "colab": {
          "base_uri": "https://localhost:8080/",
          "height": 184
        }
      },
      "source": [
        "songs.info()"
      ],
      "execution_count": 6,
      "outputs": [
        {
          "output_type": "stream",
          "text": [
            "<class 'pandas.core.frame.DataFrame'>\n",
            "Int64Index: 1118 entries, 0 to 1117\n",
            "Data columns (total 3 columns):\n",
            " #   Column      Non-Null Count  Dtype \n",
            "---  ------      --------------  ----- \n",
            " 0   Track Name  1118 non-null   object\n",
            " 1   Artist      1118 non-null   object\n",
            " 2   Streams     1118 non-null   int64 \n",
            "dtypes: int64(1), object(2)\n",
            "memory usage: 34.9+ KB\n"
          ],
          "name": "stdout"
        }
      ]
    },
    {
      "cell_type": "markdown",
      "metadata": {
        "id": "PBbEfCv9-jUU"
      },
      "source": [
        "1118 Songs streamed over one year"
      ]
    },
    {
      "cell_type": "markdown",
      "metadata": {
        "id": "wSMjQ3slFewY"
      },
      "source": [
        "The data gotten from the Spotify Chart site only has the number of streams per week, if we want to get other information on the songs in the dataset we need to get it from Spotify's API"
      ]
    },
    {
      "cell_type": "code",
      "metadata": {
        "id": "cGyQoKoS-go2",
        "outputId": "52be7cec-e990-48d5-c231-e28a4bc56a53",
        "colab": {
          "base_uri": "https://localhost:8080/",
          "height": 184
        }
      },
      "source": [
        "!pip install spotipy\n",
        "import spotipy\n",
        "from spotipy.oauth2 import SpotifyClientCredentials\n",
        "\n",
        "authorization={\"client_id\": \"c0283872be394dfea6d1316401551d04\", \"client_secret\": \"e6418e97756b431c9276cd2d968b7051\"}\n",
        "client_credentials_manager = SpotifyClientCredentials(client_id=authorization['client_id'],client_secret=authorization['client_secret'])\n",
        "\n",
        "sp = spotipy.Spotify(client_credentials_manager=client_credentials_manager)"
      ],
      "execution_count": 7,
      "outputs": [
        {
          "output_type": "stream",
          "text": [
            "Collecting spotipy\n",
            "  Downloading https://files.pythonhosted.org/packages/7a/cd/e7d9a35216ea5bfb9234785f3d8fa7c96d0e33999c2cb72394128f6b4cce/spotipy-2.16.1-py3-none-any.whl\n",
            "Requirement already satisfied: six>=1.10.0 in /usr/local/lib/python3.6/dist-packages (from spotipy) (1.15.0)\n",
            "Requirement already satisfied: requests>=2.20.0 in /usr/local/lib/python3.6/dist-packages (from spotipy) (2.23.0)\n",
            "Requirement already satisfied: idna<3,>=2.5 in /usr/local/lib/python3.6/dist-packages (from requests>=2.20.0->spotipy) (2.10)\n",
            "Requirement already satisfied: chardet<4,>=3.0.2 in /usr/local/lib/python3.6/dist-packages (from requests>=2.20.0->spotipy) (3.0.4)\n",
            "Requirement already satisfied: urllib3!=1.25.0,!=1.25.1,<1.26,>=1.21.1 in /usr/local/lib/python3.6/dist-packages (from requests>=2.20.0->spotipy) (1.24.3)\n",
            "Requirement already satisfied: certifi>=2017.4.17 in /usr/local/lib/python3.6/dist-packages (from requests>=2.20.0->spotipy) (2020.6.20)\n",
            "Installing collected packages: spotipy\n",
            "Successfully installed spotipy-2.16.1\n"
          ],
          "name": "stdout"
        }
      ]
    },
    {
      "cell_type": "code",
      "metadata": {
        "id": "THFSjfCnAq8g"
      },
      "source": [
        "def getTrackFeatures(id):\n",
        "  meta = sp.track(id)\n",
        "  features = sp.audio_features(id)\n",
        "  artist_url = meta['artists'][0]['external_urls']['spotify']\n",
        "  artist_data = sp.artist(artist_url)\n",
        "\n",
        "  # meta\n",
        "  name = meta['name']\n",
        "  album = meta['album']['name']\n",
        "  artist = meta['album']['artists'][0]['name']\n",
        "  if artist_data['genres'] == []:\n",
        "    genre = 'Missing'\n",
        "  else:\n",
        "    genre = artist_data['genres'][0]\n",
        "  release_date = meta['album']['release_date']\n",
        "  length = meta['duration_ms']\n",
        "  popularity = meta['popularity']\n",
        "\n",
        "  # features\n",
        "  acousticness = features[0]['acousticness']\n",
        "  danceability = features[0]['danceability']\n",
        "  energy = features[0]['energy']\n",
        "  instrumentalness = features[0]['instrumentalness']\n",
        "  liveness = features[0]['liveness']\n",
        "  loudness = features[0]['loudness']\n",
        "  speechiness = features[0]['speechiness']\n",
        "  tempo = features[0]['tempo']\n",
        "  time_signature = features[0]['time_signature']\n",
        "\n",
        "  track = [name, album, artist, genre, release_date, length, popularity, danceability, acousticness, energy, instrumentalness, liveness, loudness, speechiness, tempo, time_signature]\n",
        "  return track"
      ],
      "execution_count": 8,
      "outputs": []
    },
    {
      "cell_type": "code",
      "metadata": {
        "id": "pRgi0AgmCVNJ"
      },
      "source": [
        "# loop over track ids \n",
        "tracks = []\n",
        "for j in range(len(merged_df['URL'])):\n",
        "  track = getTrackFeatures(merged_df['URL'][j])\n",
        "  tracks.append(track)\n",
        "\n",
        "# create dataset\n",
        "df = pd.DataFrame(tracks, columns = ['name', 'album', 'artist', 'artist_top_genre', 'release_date', 'length', 'popularity', 'danceability', 'acousticness', 'energy', 'instrumentalness', 'liveness', 'loudness', 'speechiness', 'tempo', 'time_signature'])"
      ],
      "execution_count": 9,
      "outputs": []
    },
    {
      "cell_type": "code",
      "metadata": {
        "id": "SkuqL5FECxu2",
        "outputId": "eb90d5e9-7176-4aef-c508-ddbc1d6e227b",
        "colab": {
          "base_uri": "https://localhost:8080/",
          "height": 403
        }
      },
      "source": [
        "df.info()"
      ],
      "execution_count": 10,
      "outputs": [
        {
          "output_type": "stream",
          "text": [
            "<class 'pandas.core.frame.DataFrame'>\n",
            "RangeIndex: 10800 entries, 0 to 10799\n",
            "Data columns (total 16 columns):\n",
            " #   Column            Non-Null Count  Dtype  \n",
            "---  ------            --------------  -----  \n",
            " 0   name              10800 non-null  object \n",
            " 1   album             10800 non-null  object \n",
            " 2   artist            10800 non-null  object \n",
            " 3   artist_top_genre  10800 non-null  object \n",
            " 4   release_date      10800 non-null  object \n",
            " 5   length            10800 non-null  int64  \n",
            " 6   popularity        10800 non-null  int64  \n",
            " 7   danceability      10800 non-null  float64\n",
            " 8   acousticness      10800 non-null  float64\n",
            " 9   energy            10800 non-null  float64\n",
            " 10  instrumentalness  10800 non-null  float64\n",
            " 11  liveness          10800 non-null  float64\n",
            " 12  loudness          10800 non-null  float64\n",
            " 13  speechiness       10800 non-null  float64\n",
            " 14  tempo             10800 non-null  float64\n",
            " 15  time_signature    10800 non-null  int64  \n",
            "dtypes: float64(8), int64(3), object(5)\n",
            "memory usage: 1.3+ MB\n"
          ],
          "name": "stdout"
        }
      ]
    },
    {
      "cell_type": "code",
      "metadata": {
        "id": "fJZcD7MKS0qr"
      },
      "source": [
        "merged_df = pd.read_csv('/content/SA_Spotify.csv')\n",
        "df = pd.read_csv('/content/SA_Spotify_data.csv')"
      ],
      "execution_count": 50,
      "outputs": []
    },
    {
      "cell_type": "code",
      "metadata": {
        "id": "hR47e5dcDP5w",
        "outputId": "a3b3bcc6-d2ef-43df-9bb7-17bda7dba4e0",
        "colab": {
          "base_uri": "https://localhost:8080/",
          "height": 453
        }
      },
      "source": [
        "# Adding the streams and week columns from the previous dataset\n",
        "concat_df = pd.concat([merged_df,df],axis=1)\n",
        "concat_df.drop(columns=['name', 'artist', 'URL'], inplace=True)\n",
        "concat_df.info()"
      ],
      "execution_count": 51,
      "outputs": [
        {
          "output_type": "stream",
          "text": [
            "<class 'pandas.core.frame.DataFrame'>\n",
            "RangeIndex: 10800 entries, 0 to 10799\n",
            "Data columns (total 19 columns):\n",
            " #   Column            Non-Null Count  Dtype  \n",
            "---  ------            --------------  -----  \n",
            " 0   Artist            10800 non-null  object \n",
            " 1   Position          10800 non-null  int64  \n",
            " 2   Streams           10800 non-null  int64  \n",
            " 3   Track Name        10800 non-null  object \n",
            " 4   Week              10800 non-null  object \n",
            " 5   album             10800 non-null  object \n",
            " 6   artist_top_genre  10800 non-null  object \n",
            " 7   release_date      10800 non-null  object \n",
            " 8   length            10800 non-null  int64  \n",
            " 9   popularity        10800 non-null  int64  \n",
            " 10  danceability      10800 non-null  float64\n",
            " 11  acousticness      10800 non-null  float64\n",
            " 12  energy            10800 non-null  float64\n",
            " 13  instrumentalness  10800 non-null  float64\n",
            " 14  liveness          10800 non-null  float64\n",
            " 15  loudness          10800 non-null  float64\n",
            " 16  speechiness       10800 non-null  float64\n",
            " 17  tempo             10800 non-null  float64\n",
            " 18  time_signature    10800 non-null  int64  \n",
            "dtypes: float64(8), int64(5), object(6)\n",
            "memory usage: 1.6+ MB\n"
          ],
          "name": "stdout"
        }
      ]
    },
    {
      "cell_type": "code",
      "metadata": {
        "id": "3PlmlH5beAeE",
        "outputId": "b7152d49-830e-44ef-b62f-ad7ba93bae30",
        "colab": {
          "base_uri": "https://localhost:8080/",
          "height": 274
        }
      },
      "source": [
        "concat_df.head()"
      ],
      "execution_count": 52,
      "outputs": [
        {
          "output_type": "execute_result",
          "data": {
            "text/html": [
              "<div>\n",
              "<style scoped>\n",
              "    .dataframe tbody tr th:only-of-type {\n",
              "        vertical-align: middle;\n",
              "    }\n",
              "\n",
              "    .dataframe tbody tr th {\n",
              "        vertical-align: top;\n",
              "    }\n",
              "\n",
              "    .dataframe thead th {\n",
              "        text-align: right;\n",
              "    }\n",
              "</style>\n",
              "<table border=\"1\" class=\"dataframe\">\n",
              "  <thead>\n",
              "    <tr style=\"text-align: right;\">\n",
              "      <th></th>\n",
              "      <th>Artist</th>\n",
              "      <th>Position</th>\n",
              "      <th>Streams</th>\n",
              "      <th>Track Name</th>\n",
              "      <th>Week</th>\n",
              "      <th>album</th>\n",
              "      <th>artist_top_genre</th>\n",
              "      <th>release_date</th>\n",
              "      <th>length</th>\n",
              "      <th>popularity</th>\n",
              "      <th>danceability</th>\n",
              "      <th>acousticness</th>\n",
              "      <th>energy</th>\n",
              "      <th>instrumentalness</th>\n",
              "      <th>liveness</th>\n",
              "      <th>loudness</th>\n",
              "      <th>speechiness</th>\n",
              "      <th>tempo</th>\n",
              "      <th>time_signature</th>\n",
              "    </tr>\n",
              "  </thead>\n",
              "  <tbody>\n",
              "    <tr>\n",
              "      <th>0</th>\n",
              "      <td>Roddy Ricch</td>\n",
              "      <td>1</td>\n",
              "      <td>90253</td>\n",
              "      <td>The Box</td>\n",
              "      <td>2020-02-21--2020-02-28</td>\n",
              "      <td>Please Excuse Me For Being Antisocial</td>\n",
              "      <td>melodic rap</td>\n",
              "      <td>2019-12-06</td>\n",
              "      <td>196652</td>\n",
              "      <td>89</td>\n",
              "      <td>0.896</td>\n",
              "      <td>0.10400</td>\n",
              "      <td>0.586</td>\n",
              "      <td>0.000000</td>\n",
              "      <td>0.7900</td>\n",
              "      <td>-6.687</td>\n",
              "      <td>0.0559</td>\n",
              "      <td>116.971</td>\n",
              "      <td>4</td>\n",
              "    </tr>\n",
              "    <tr>\n",
              "      <th>1</th>\n",
              "      <td>Tones And I</td>\n",
              "      <td>2</td>\n",
              "      <td>72898</td>\n",
              "      <td>Dance Monkey</td>\n",
              "      <td>2020-02-21--2020-02-28</td>\n",
              "      <td>Dance Monkey</td>\n",
              "      <td>australian pop</td>\n",
              "      <td>2019-05-10</td>\n",
              "      <td>209754</td>\n",
              "      <td>70</td>\n",
              "      <td>0.825</td>\n",
              "      <td>0.68800</td>\n",
              "      <td>0.593</td>\n",
              "      <td>0.000161</td>\n",
              "      <td>0.1700</td>\n",
              "      <td>-6.401</td>\n",
              "      <td>0.0988</td>\n",
              "      <td>98.078</td>\n",
              "      <td>4</td>\n",
              "    </tr>\n",
              "    <tr>\n",
              "      <th>2</th>\n",
              "      <td>The Weeknd</td>\n",
              "      <td>3</td>\n",
              "      <td>71787</td>\n",
              "      <td>Blinding Lights</td>\n",
              "      <td>2020-02-21--2020-02-28</td>\n",
              "      <td>Blinding Lights</td>\n",
              "      <td>canadian contemporary r&amp;b</td>\n",
              "      <td>2019-11-29</td>\n",
              "      <td>201573</td>\n",
              "      <td>34</td>\n",
              "      <td>0.513</td>\n",
              "      <td>0.00147</td>\n",
              "      <td>0.796</td>\n",
              "      <td>0.000209</td>\n",
              "      <td>0.0938</td>\n",
              "      <td>-4.075</td>\n",
              "      <td>0.0629</td>\n",
              "      <td>171.017</td>\n",
              "      <td>4</td>\n",
              "    </tr>\n",
              "    <tr>\n",
              "      <th>3</th>\n",
              "      <td>Future</td>\n",
              "      <td>4</td>\n",
              "      <td>64670</td>\n",
              "      <td>Life Is Good (feat. Drake)</td>\n",
              "      <td>2020-02-21--2020-02-28</td>\n",
              "      <td>Life Is Good (feat. Drake)</td>\n",
              "      <td>atl hip hop</td>\n",
              "      <td>2020-01-10</td>\n",
              "      <td>237735</td>\n",
              "      <td>85</td>\n",
              "      <td>0.676</td>\n",
              "      <td>0.07060</td>\n",
              "      <td>0.609</td>\n",
              "      <td>0.000000</td>\n",
              "      <td>0.1520</td>\n",
              "      <td>-5.831</td>\n",
              "      <td>0.4810</td>\n",
              "      <td>142.037</td>\n",
              "      <td>4</td>\n",
              "    </tr>\n",
              "    <tr>\n",
              "      <th>4</th>\n",
              "      <td>Kabza De Small</td>\n",
              "      <td>5</td>\n",
              "      <td>64600</td>\n",
              "      <td>eMcimbini - Live</td>\n",
              "      <td>2020-02-21--2020-02-28</td>\n",
              "      <td>Scorpion Kings Live</td>\n",
              "      <td>afro house</td>\n",
              "      <td>2020-02-03</td>\n",
              "      <td>407787</td>\n",
              "      <td>49</td>\n",
              "      <td>0.844</td>\n",
              "      <td>0.00646</td>\n",
              "      <td>0.564</td>\n",
              "      <td>0.163000</td>\n",
              "      <td>0.0231</td>\n",
              "      <td>-10.817</td>\n",
              "      <td>0.0855</td>\n",
              "      <td>112.996</td>\n",
              "      <td>4</td>\n",
              "    </tr>\n",
              "  </tbody>\n",
              "</table>\n",
              "</div>"
            ],
            "text/plain": [
              "           Artist  Position  Streams  ... speechiness    tempo time_signature\n",
              "0     Roddy Ricch         1    90253  ...      0.0559  116.971              4\n",
              "1     Tones And I         2    72898  ...      0.0988   98.078              4\n",
              "2      The Weeknd         3    71787  ...      0.0629  171.017              4\n",
              "3          Future         4    64670  ...      0.4810  142.037              4\n",
              "4  Kabza De Small         5    64600  ...      0.0855  112.996              4\n",
              "\n",
              "[5 rows x 19 columns]"
            ]
          },
          "metadata": {
            "tags": []
          },
          "execution_count": 52
        }
      ]
    },
    {
      "cell_type": "markdown",
      "metadata": {
        "id": "1FJKA65mfUb_"
      },
      "source": [
        "This data has more features to explore, with important data like the popularity of a song on Spotify added"
      ]
    },
    {
      "cell_type": "code",
      "metadata": {
        "id": "4DhLN8qHeCBf",
        "outputId": "d6ec2299-6ff7-400d-da4f-551d9c8ddc39",
        "colab": {
          "base_uri": "https://localhost:8080/",
          "height": 33
        }
      },
      "source": [
        "concat_df['artist_top_genre'].nunique()"
      ],
      "execution_count": 53,
      "outputs": [
        {
          "output_type": "execute_result",
          "data": {
            "text/plain": [
              "107"
            ]
          },
          "metadata": {
            "tags": []
          },
          "execution_count": 53
        }
      ]
    },
    {
      "cell_type": "code",
      "metadata": {
        "id": "qBhB503eeKbv",
        "outputId": "afd1adf8-e1ce-4740-d477-2e35030f4a6d",
        "colab": {
          "base_uri": "https://localhost:8080/",
          "height": 201
        }
      },
      "source": [
        "concat_df['artist_top_genre'].value_counts(ascending=False).head(10)"
      ],
      "execution_count": 54,
      "outputs": [
        {
          "output_type": "execute_result",
          "data": {
            "text/plain": [
              "dance pop           1841\n",
              "pop                 1546\n",
              "afro house           826\n",
              "chicago rap          378\n",
              "alternative r&b      339\n",
              "melodic rap          334\n",
              "electropop           333\n",
              "dfw rap              323\n",
              "rap                  295\n",
              "canadian hip hop     247\n",
              "Name: artist_top_genre, dtype: int64"
            ]
          },
          "metadata": {
            "tags": []
          },
          "execution_count": 54
        }
      ]
    },
    {
      "cell_type": "code",
      "metadata": {
        "id": "6BZu2LZZeW-B",
        "outputId": "f752c798-9a8a-4708-baf8-94dfb566b102",
        "colab": {
          "base_uri": "https://localhost:8080/",
          "height": 33
        }
      },
      "source": [
        "len(concat_df[concat_df['artist_top_genre'] == 'Missing'])"
      ],
      "execution_count": 55,
      "outputs": [
        {
          "output_type": "execute_result",
          "data": {
            "text/plain": [
              "122"
            ]
          },
          "metadata": {
            "tags": []
          },
          "execution_count": 55
        }
      ]
    },
    {
      "cell_type": "markdown",
      "metadata": {
        "id": "we_iGA9XfoX_"
      },
      "source": [
        "122 song entries had no genre data attached to their Spotify link"
      ]
    },
    {
      "cell_type": "code",
      "metadata": {
        "id": "43nvvKo-ejHq"
      },
      "source": [
        "concat_df.to_csv('SA_Spotify_data.csv', index=False, encoding='utf-8')"
      ],
      "execution_count": 56,
      "outputs": []
    }
  ]
}